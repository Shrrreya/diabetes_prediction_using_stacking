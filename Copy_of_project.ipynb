{
  "nbformat": 4,
  "nbformat_minor": 0,
  "metadata": {
    "colab": {
      "name": "Copy of project.ipynb",
      "provenance": [],
      "collapsed_sections": [
        "IJC4ZYLBjxfe",
        "BPnSaiS9jxg9",
        "I4_1H89BjxhA",
        "lyNrw2BTjxiG",
        "gnQK_0f-jxi5",
        "tbiWoxLhjxi7",
        "IgyBHSiEjxjY",
        "UR0PvJlRjxja",
        "f-401OHPjxjc",
        "GX8rSaKSjxjd",
        "0OIJl83ajxji",
        "1n82yRXDjxnQ"
      ]
    },
    "kernelspec": {
      "display_name": "Python 3.6.5 64-bit ('3.6')",
      "name": "python365jvsc74a57bd005ece30799c2dcdac4c13b3af20453da19de8df0d9a1de52cff7e0b6e1e82bdd"
    },
    "language_info": {
      "codemirror_mode": {
        "name": "ipython",
        "version": 2
      },
      "file_extension": ".py",
      "mimetype": "text/x-python",
      "name": "python",
      "nbconvert_exporter": "python",
      "pygments_lexer": "ipython2",
      "version": "3.6.5"
    }
  },
  "cells": [
    {
      "cell_type": "markdown",
      "metadata": {
        "id": "OjmL_V6XjxfW"
      },
      "source": [
        "# Diabetes Prediction, using 6 Different ML Algorithms"
      ]
    },
    {
      "cell_type": "code",
      "metadata": {
        "collapsed": true,
        "id": "mQrY9U09jxfd"
      },
      "source": [
        "import numpy as np\n",
        "import pandas as pd\n",
        "import seaborn as sns\n",
        "import matplotlib.pyplot as plt\n",
        "sns.set(color_codes = True)\n",
        "%matplotlib inline "
      ],
      "execution_count": 3,
      "outputs": []
    },
    {
      "cell_type": "markdown",
      "metadata": {
        "id": "IJC4ZYLBjxfe"
      },
      "source": [
        "## Loading and Reviewing the Data"
      ]
    },
    {
      "cell_type": "code",
      "metadata": {
        "id": "2t5-5MWUjxfe"
      },
      "source": [
        "data_frame = pd.read_csv(\"diabetes.csv\")"
      ],
      "execution_count": 4,
      "outputs": []
    },
    {
      "cell_type": "code",
      "metadata": {
        "colab": {
          "base_uri": "https://localhost:8080/"
        },
        "id": "aNLfkeypjxff",
        "outputId": "289efbf3-f355-4b04-e9d5-3d484456dfcd"
      },
      "source": [
        "data_frame.shape"
      ],
      "execution_count": 5,
      "outputs": [
        {
          "output_type": "execute_result",
          "data": {
            "text/plain": [
              "(768, 9)"
            ]
          },
          "metadata": {
            "tags": []
          },
          "execution_count": 5
        }
      ]
    },
    {
      "cell_type": "code",
      "metadata": {
        "colab": {
          "base_uri": "https://localhost:8080/",
          "height": 0
        },
        "id": "V0tAeoCojxg6",
        "outputId": "3a3066b3-cda1-48c9-e583-cd9b0dab5d78"
      },
      "source": [
        "data_frame.head(5)"
      ],
      "execution_count": 6,
      "outputs": [
        {
          "output_type": "execute_result",
          "data": {
            "text/html": [
              "<div>\n",
              "<style scoped>\n",
              "    .dataframe tbody tr th:only-of-type {\n",
              "        vertical-align: middle;\n",
              "    }\n",
              "\n",
              "    .dataframe tbody tr th {\n",
              "        vertical-align: top;\n",
              "    }\n",
              "\n",
              "    .dataframe thead th {\n",
              "        text-align: right;\n",
              "    }\n",
              "</style>\n",
              "<table border=\"1\" class=\"dataframe\">\n",
              "  <thead>\n",
              "    <tr style=\"text-align: right;\">\n",
              "      <th></th>\n",
              "      <th>Pregnancies</th>\n",
              "      <th>Glucose</th>\n",
              "      <th>BloodPressure</th>\n",
              "      <th>SkinThickness</th>\n",
              "      <th>Insulin</th>\n",
              "      <th>BMI</th>\n",
              "      <th>DiabetesPedigreeFunction</th>\n",
              "      <th>Age</th>\n",
              "      <th>Outcome</th>\n",
              "    </tr>\n",
              "  </thead>\n",
              "  <tbody>\n",
              "    <tr>\n",
              "      <th>0</th>\n",
              "      <td>6</td>\n",
              "      <td>148</td>\n",
              "      <td>72</td>\n",
              "      <td>35</td>\n",
              "      <td>0</td>\n",
              "      <td>33.6</td>\n",
              "      <td>0.627</td>\n",
              "      <td>50</td>\n",
              "      <td>1</td>\n",
              "    </tr>\n",
              "    <tr>\n",
              "      <th>1</th>\n",
              "      <td>1</td>\n",
              "      <td>85</td>\n",
              "      <td>66</td>\n",
              "      <td>29</td>\n",
              "      <td>0</td>\n",
              "      <td>26.6</td>\n",
              "      <td>0.351</td>\n",
              "      <td>31</td>\n",
              "      <td>0</td>\n",
              "    </tr>\n",
              "    <tr>\n",
              "      <th>2</th>\n",
              "      <td>8</td>\n",
              "      <td>183</td>\n",
              "      <td>64</td>\n",
              "      <td>0</td>\n",
              "      <td>0</td>\n",
              "      <td>23.3</td>\n",
              "      <td>0.672</td>\n",
              "      <td>32</td>\n",
              "      <td>1</td>\n",
              "    </tr>\n",
              "    <tr>\n",
              "      <th>3</th>\n",
              "      <td>1</td>\n",
              "      <td>89</td>\n",
              "      <td>66</td>\n",
              "      <td>23</td>\n",
              "      <td>94</td>\n",
              "      <td>28.1</td>\n",
              "      <td>0.167</td>\n",
              "      <td>21</td>\n",
              "      <td>0</td>\n",
              "    </tr>\n",
              "    <tr>\n",
              "      <th>4</th>\n",
              "      <td>0</td>\n",
              "      <td>137</td>\n",
              "      <td>40</td>\n",
              "      <td>35</td>\n",
              "      <td>168</td>\n",
              "      <td>43.1</td>\n",
              "      <td>2.288</td>\n",
              "      <td>33</td>\n",
              "      <td>1</td>\n",
              "    </tr>\n",
              "  </tbody>\n",
              "</table>\n",
              "</div>"
            ],
            "text/plain": [
              "   Pregnancies  Glucose  BloodPressure  ...  DiabetesPedigreeFunction  Age  Outcome\n",
              "0            6      148             72  ...                     0.627   50        1\n",
              "1            1       85             66  ...                     0.351   31        0\n",
              "2            8      183             64  ...                     0.672   32        1\n",
              "3            1       89             66  ...                     0.167   21        0\n",
              "4            0      137             40  ...                     2.288   33        1\n",
              "\n",
              "[5 rows x 9 columns]"
            ]
          },
          "metadata": {
            "tags": []
          },
          "execution_count": 6
        }
      ]
    },
    {
      "cell_type": "code",
      "metadata": {
        "colab": {
          "base_uri": "https://localhost:8080/",
          "height": 0
        },
        "id": "OVFHduIGjxg7",
        "outputId": "f1b0a782-10ab-4d49-e1c8-45cf45245b8b"
      },
      "source": [
        "data_frame.tail(5)"
      ],
      "execution_count": 7,
      "outputs": [
        {
          "output_type": "execute_result",
          "data": {
            "text/html": [
              "<div>\n",
              "<style scoped>\n",
              "    .dataframe tbody tr th:only-of-type {\n",
              "        vertical-align: middle;\n",
              "    }\n",
              "\n",
              "    .dataframe tbody tr th {\n",
              "        vertical-align: top;\n",
              "    }\n",
              "\n",
              "    .dataframe thead th {\n",
              "        text-align: right;\n",
              "    }\n",
              "</style>\n",
              "<table border=\"1\" class=\"dataframe\">\n",
              "  <thead>\n",
              "    <tr style=\"text-align: right;\">\n",
              "      <th></th>\n",
              "      <th>Pregnancies</th>\n",
              "      <th>Glucose</th>\n",
              "      <th>BloodPressure</th>\n",
              "      <th>SkinThickness</th>\n",
              "      <th>Insulin</th>\n",
              "      <th>BMI</th>\n",
              "      <th>DiabetesPedigreeFunction</th>\n",
              "      <th>Age</th>\n",
              "      <th>Outcome</th>\n",
              "    </tr>\n",
              "  </thead>\n",
              "  <tbody>\n",
              "    <tr>\n",
              "      <th>763</th>\n",
              "      <td>10</td>\n",
              "      <td>101</td>\n",
              "      <td>76</td>\n",
              "      <td>48</td>\n",
              "      <td>180</td>\n",
              "      <td>32.9</td>\n",
              "      <td>0.171</td>\n",
              "      <td>63</td>\n",
              "      <td>0</td>\n",
              "    </tr>\n",
              "    <tr>\n",
              "      <th>764</th>\n",
              "      <td>2</td>\n",
              "      <td>122</td>\n",
              "      <td>70</td>\n",
              "      <td>27</td>\n",
              "      <td>0</td>\n",
              "      <td>36.8</td>\n",
              "      <td>0.340</td>\n",
              "      <td>27</td>\n",
              "      <td>0</td>\n",
              "    </tr>\n",
              "    <tr>\n",
              "      <th>765</th>\n",
              "      <td>5</td>\n",
              "      <td>121</td>\n",
              "      <td>72</td>\n",
              "      <td>23</td>\n",
              "      <td>112</td>\n",
              "      <td>26.2</td>\n",
              "      <td>0.245</td>\n",
              "      <td>30</td>\n",
              "      <td>0</td>\n",
              "    </tr>\n",
              "    <tr>\n",
              "      <th>766</th>\n",
              "      <td>1</td>\n",
              "      <td>126</td>\n",
              "      <td>60</td>\n",
              "      <td>0</td>\n",
              "      <td>0</td>\n",
              "      <td>30.1</td>\n",
              "      <td>0.349</td>\n",
              "      <td>47</td>\n",
              "      <td>1</td>\n",
              "    </tr>\n",
              "    <tr>\n",
              "      <th>767</th>\n",
              "      <td>1</td>\n",
              "      <td>93</td>\n",
              "      <td>70</td>\n",
              "      <td>31</td>\n",
              "      <td>0</td>\n",
              "      <td>30.4</td>\n",
              "      <td>0.315</td>\n",
              "      <td>23</td>\n",
              "      <td>0</td>\n",
              "    </tr>\n",
              "  </tbody>\n",
              "</table>\n",
              "</div>"
            ],
            "text/plain": [
              "     Pregnancies  Glucose  ...  Age  Outcome\n",
              "763           10      101  ...   63        0\n",
              "764            2      122  ...   27        0\n",
              "765            5      121  ...   30        0\n",
              "766            1      126  ...   47        1\n",
              "767            1       93  ...   23        0\n",
              "\n",
              "[5 rows x 9 columns]"
            ]
          },
          "metadata": {
            "tags": []
          },
          "execution_count": 7
        }
      ]
    },
    {
      "cell_type": "markdown",
      "metadata": {
        "id": "mLM_sAlwjxg8"
      },
      "source": [
        "## Definition of Features\n",
        "\n",
        "From Data Source (Kaggle Dataset), we have the following definition of the features.\n",
        "\n",
        "| Feature    |     Description | \n",
        "|--------------|-------------|\n",
        "| \tPregnancies     | Number of Pregnancies         |\n",
        "| Glucose | Plasma glucose concentration a 2 hours in an oral glucose tolerance test         |\n",
        "| BloodPressure | Diastolic blood pressure (mm Hg) |\n",
        "| SkinThickness | Triceps skin fold thickness (mm) |\n",
        "|Insulin | 2-Hour serum insulin (mu U/ml) |\n",
        "| BMI |  Body mass index (weight in kg / (height in m)^2) |\n",
        "| DiabetesPedigreeFunction       |  Diabetes pedigree function |\n",
        "| Age | Age (years)|\n",
        "| Outcome | Class variable (1 = True, 0 = False) |\n",
        "\n",
        "\n",
        "\n",
        "## Here, only \"Outcome\" is the dependent variable.\n",
        "\n",
        "## Every other variable is independent variable.\n"
      ]
    },
    {
      "cell_type": "markdown",
      "metadata": {
        "id": "BPnSaiS9jxg9"
      },
      "source": [
        "## Checking  for null values"
      ]
    },
    {
      "cell_type": "code",
      "metadata": {
        "colab": {
          "base_uri": "https://localhost:8080/"
        },
        "id": "wyqfUR9-jxg9",
        "outputId": "760b6c5d-46b6-4aed-9fe7-284f24fd83b3"
      },
      "source": [
        "print (data_frame.isnull().values.any())"
      ],
      "execution_count": 8,
      "outputs": [
        {
          "output_type": "stream",
          "text": [
            "False\n"
          ],
          "name": "stdout"
        }
      ]
    },
    {
      "cell_type": "code",
      "metadata": {
        "colab": {
          "base_uri": "https://localhost:8080/",
          "height": 0
        },
        "id": "DO1PWMi9jxg_",
        "outputId": "fbcfb903-98c2-4607-f5f9-4494f0101016"
      },
      "source": [
        "data_frame.corr()"
      ],
      "execution_count": 9,
      "outputs": [
        {
          "output_type": "execute_result",
          "data": {
            "text/html": [
              "<div>\n",
              "<style scoped>\n",
              "    .dataframe tbody tr th:only-of-type {\n",
              "        vertical-align: middle;\n",
              "    }\n",
              "\n",
              "    .dataframe tbody tr th {\n",
              "        vertical-align: top;\n",
              "    }\n",
              "\n",
              "    .dataframe thead th {\n",
              "        text-align: right;\n",
              "    }\n",
              "</style>\n",
              "<table border=\"1\" class=\"dataframe\">\n",
              "  <thead>\n",
              "    <tr style=\"text-align: right;\">\n",
              "      <th></th>\n",
              "      <th>Pregnancies</th>\n",
              "      <th>Glucose</th>\n",
              "      <th>BloodPressure</th>\n",
              "      <th>SkinThickness</th>\n",
              "      <th>Insulin</th>\n",
              "      <th>BMI</th>\n",
              "      <th>DiabetesPedigreeFunction</th>\n",
              "      <th>Age</th>\n",
              "      <th>Outcome</th>\n",
              "    </tr>\n",
              "  </thead>\n",
              "  <tbody>\n",
              "    <tr>\n",
              "      <th>Pregnancies</th>\n",
              "      <td>1.000000</td>\n",
              "      <td>0.129459</td>\n",
              "      <td>0.141282</td>\n",
              "      <td>-0.081672</td>\n",
              "      <td>-0.073535</td>\n",
              "      <td>0.017683</td>\n",
              "      <td>-0.033523</td>\n",
              "      <td>0.544341</td>\n",
              "      <td>0.221898</td>\n",
              "    </tr>\n",
              "    <tr>\n",
              "      <th>Glucose</th>\n",
              "      <td>0.129459</td>\n",
              "      <td>1.000000</td>\n",
              "      <td>0.152590</td>\n",
              "      <td>0.057328</td>\n",
              "      <td>0.331357</td>\n",
              "      <td>0.221071</td>\n",
              "      <td>0.137337</td>\n",
              "      <td>0.263514</td>\n",
              "      <td>0.466581</td>\n",
              "    </tr>\n",
              "    <tr>\n",
              "      <th>BloodPressure</th>\n",
              "      <td>0.141282</td>\n",
              "      <td>0.152590</td>\n",
              "      <td>1.000000</td>\n",
              "      <td>0.207371</td>\n",
              "      <td>0.088933</td>\n",
              "      <td>0.281805</td>\n",
              "      <td>0.041265</td>\n",
              "      <td>0.239528</td>\n",
              "      <td>0.065068</td>\n",
              "    </tr>\n",
              "    <tr>\n",
              "      <th>SkinThickness</th>\n",
              "      <td>-0.081672</td>\n",
              "      <td>0.057328</td>\n",
              "      <td>0.207371</td>\n",
              "      <td>1.000000</td>\n",
              "      <td>0.436783</td>\n",
              "      <td>0.392573</td>\n",
              "      <td>0.183928</td>\n",
              "      <td>-0.113970</td>\n",
              "      <td>0.074752</td>\n",
              "    </tr>\n",
              "    <tr>\n",
              "      <th>Insulin</th>\n",
              "      <td>-0.073535</td>\n",
              "      <td>0.331357</td>\n",
              "      <td>0.088933</td>\n",
              "      <td>0.436783</td>\n",
              "      <td>1.000000</td>\n",
              "      <td>0.197859</td>\n",
              "      <td>0.185071</td>\n",
              "      <td>-0.042163</td>\n",
              "      <td>0.130548</td>\n",
              "    </tr>\n",
              "    <tr>\n",
              "      <th>BMI</th>\n",
              "      <td>0.017683</td>\n",
              "      <td>0.221071</td>\n",
              "      <td>0.281805</td>\n",
              "      <td>0.392573</td>\n",
              "      <td>0.197859</td>\n",
              "      <td>1.000000</td>\n",
              "      <td>0.140647</td>\n",
              "      <td>0.036242</td>\n",
              "      <td>0.292695</td>\n",
              "    </tr>\n",
              "    <tr>\n",
              "      <th>DiabetesPedigreeFunction</th>\n",
              "      <td>-0.033523</td>\n",
              "      <td>0.137337</td>\n",
              "      <td>0.041265</td>\n",
              "      <td>0.183928</td>\n",
              "      <td>0.185071</td>\n",
              "      <td>0.140647</td>\n",
              "      <td>1.000000</td>\n",
              "      <td>0.033561</td>\n",
              "      <td>0.173844</td>\n",
              "    </tr>\n",
              "    <tr>\n",
              "      <th>Age</th>\n",
              "      <td>0.544341</td>\n",
              "      <td>0.263514</td>\n",
              "      <td>0.239528</td>\n",
              "      <td>-0.113970</td>\n",
              "      <td>-0.042163</td>\n",
              "      <td>0.036242</td>\n",
              "      <td>0.033561</td>\n",
              "      <td>1.000000</td>\n",
              "      <td>0.238356</td>\n",
              "    </tr>\n",
              "    <tr>\n",
              "      <th>Outcome</th>\n",
              "      <td>0.221898</td>\n",
              "      <td>0.466581</td>\n",
              "      <td>0.065068</td>\n",
              "      <td>0.074752</td>\n",
              "      <td>0.130548</td>\n",
              "      <td>0.292695</td>\n",
              "      <td>0.173844</td>\n",
              "      <td>0.238356</td>\n",
              "      <td>1.000000</td>\n",
              "    </tr>\n",
              "  </tbody>\n",
              "</table>\n",
              "</div>"
            ],
            "text/plain": [
              "                          Pregnancies   Glucose  ...       Age   Outcome\n",
              "Pregnancies                  1.000000  0.129459  ...  0.544341  0.221898\n",
              "Glucose                      0.129459  1.000000  ...  0.263514  0.466581\n",
              "BloodPressure                0.141282  0.152590  ...  0.239528  0.065068\n",
              "SkinThickness               -0.081672  0.057328  ... -0.113970  0.074752\n",
              "Insulin                     -0.073535  0.331357  ... -0.042163  0.130548\n",
              "BMI                          0.017683  0.221071  ...  0.036242  0.292695\n",
              "DiabetesPedigreeFunction    -0.033523  0.137337  ...  0.033561  0.173844\n",
              "Age                          0.544341  0.263514  ...  1.000000  0.238356\n",
              "Outcome                      0.221898  0.466581  ...  0.238356  1.000000\n",
              "\n",
              "[9 rows x 9 columns]"
            ]
          },
          "metadata": {
            "tags": []
          },
          "execution_count": 9
        }
      ]
    },
    {
      "cell_type": "markdown",
      "metadata": {
        "id": "I4_1H89BjxhA"
      },
      "source": [
        "## We can see that there are no correlated variables. \n",
        "## Every variable, except \"Outcome\" is independent."
      ]
    },
    {
      "cell_type": "code",
      "metadata": {
        "id": "5zI7ig3Cxsvx",
        "colab": {
          "base_uri": "https://localhost:8080/",
          "height": 0
        },
        "outputId": "e40c304a-de2d-4a2a-f7ed-3f2874ae05d2"
      },
      "source": [
        "corr = data_frame.corr()\n",
        "mask = np.triu(np.ones_like(corr, dtype = bool))\n",
        "\n",
        "f, ax = plt.subplots(figsize = (11, 9))\n",
        "\n",
        "cmap = sns.diverging_palette(210, 20, as_cmap = True)\n",
        "\n",
        "sns.heatmap(corr, mask = mask, cmap = cmap, vmax = 1, center = 0, square = True, linewidths = .5, cbar_kws = {\"shrink\": .5})"
      ],
      "execution_count": 10,
      "outputs": [
        {
          "output_type": "execute_result",
          "data": {
            "text/plain": [
              "<matplotlib.axes._subplots.AxesSubplot at 0x7fbf0e8e6790>"
            ]
          },
          "metadata": {
            "tags": []
          },
          "execution_count": 10
        },
        {
          "output_type": "display_data",
          "data": {
            "image/png": "[encoded data removed]",
            "text/plain": [
              "<Figure size 792x648 with 2 Axes>"
            ]
          },
          "metadata": {
            "tags": [],
            "needs_background": "light"
          }
        }
      ]
    },
    {
      "cell_type": "markdown",
      "metadata": {
        "id": "5ldYgnZ6jxhB"
      },
      "source": [
        "The correlations look good.  There appear to be no coorelated columns."
      ]
    },
    {
      "cell_type": "markdown",
      "metadata": {
        "id": "xwGXedl3jxhB"
      },
      "source": [
        "### Data Types\n",
        "\n",
        "Inspect data types to see if there are any issues.  \n",
        "\n",
        "The data and its data type(s) look good enough."
      ]
    },
    {
      "cell_type": "code",
      "metadata": {
        "colab": {
          "base_uri": "https://localhost:8080/",
          "height": 0
        },
        "id": "jOIv8ZPljxhB",
        "outputId": "80f24a34-c96f-4426-8c69-ecac8a9cfde7"
      },
      "source": [
        "data_frame.head(5)"
      ],
      "execution_count": 11,
      "outputs": [
        {
          "output_type": "execute_result",
          "data": {
            "text/html": [
              "<div>\n",
              "<style scoped>\n",
              "    .dataframe tbody tr th:only-of-type {\n",
              "        vertical-align: middle;\n",
              "    }\n",
              "\n",
              "    .dataframe tbody tr th {\n",
              "        vertical-align: top;\n",
              "    }\n",
              "\n",
              "    .dataframe thead th {\n",
              "        text-align: right;\n",
              "    }\n",
              "</style>\n",
              "<table border=\"1\" class=\"dataframe\">\n",
              "  <thead>\n",
              "    <tr style=\"text-align: right;\">\n",
              "      <th></th>\n",
              "      <th>Pregnancies</th>\n",
              "      <th>Glucose</th>\n",
              "      <th>BloodPressure</th>\n",
              "      <th>SkinThickness</th>\n",
              "      <th>Insulin</th>\n",
              "      <th>BMI</th>\n",
              "      <th>DiabetesPedigreeFunction</th>\n",
              "      <th>Age</th>\n",
              "      <th>Outcome</th>\n",
              "    </tr>\n",
              "  </thead>\n",
              "  <tbody>\n",
              "    <tr>\n",
              "      <th>0</th>\n",
              "      <td>6</td>\n",
              "      <td>148</td>\n",
              "      <td>72</td>\n",
              "      <td>35</td>\n",
              "      <td>0</td>\n",
              "      <td>33.6</td>\n",
              "      <td>0.627</td>\n",
              "      <td>50</td>\n",
              "      <td>1</td>\n",
              "    </tr>\n",
              "    <tr>\n",
              "      <th>1</th>\n",
              "      <td>1</td>\n",
              "      <td>85</td>\n",
              "      <td>66</td>\n",
              "      <td>29</td>\n",
              "      <td>0</td>\n",
              "      <td>26.6</td>\n",
              "      <td>0.351</td>\n",
              "      <td>31</td>\n",
              "      <td>0</td>\n",
              "    </tr>\n",
              "    <tr>\n",
              "      <th>2</th>\n",
              "      <td>8</td>\n",
              "      <td>183</td>\n",
              "      <td>64</td>\n",
              "      <td>0</td>\n",
              "      <td>0</td>\n",
              "      <td>23.3</td>\n",
              "      <td>0.672</td>\n",
              "      <td>32</td>\n",
              "      <td>1</td>\n",
              "    </tr>\n",
              "    <tr>\n",
              "      <th>3</th>\n",
              "      <td>1</td>\n",
              "      <td>89</td>\n",
              "      <td>66</td>\n",
              "      <td>23</td>\n",
              "      <td>94</td>\n",
              "      <td>28.1</td>\n",
              "      <td>0.167</td>\n",
              "      <td>21</td>\n",
              "      <td>0</td>\n",
              "    </tr>\n",
              "    <tr>\n",
              "      <th>4</th>\n",
              "      <td>0</td>\n",
              "      <td>137</td>\n",
              "      <td>40</td>\n",
              "      <td>35</td>\n",
              "      <td>168</td>\n",
              "      <td>43.1</td>\n",
              "      <td>2.288</td>\n",
              "      <td>33</td>\n",
              "      <td>1</td>\n",
              "    </tr>\n",
              "  </tbody>\n",
              "</table>\n",
              "</div>"
            ],
            "text/plain": [
              "   Pregnancies  Glucose  BloodPressure  ...  DiabetesPedigreeFunction  Age  Outcome\n",
              "0            6      148             72  ...                     0.627   50        1\n",
              "1            1       85             66  ...                     0.351   31        0\n",
              "2            8      183             64  ...                     0.672   32        1\n",
              "3            1       89             66  ...                     0.167   21        0\n",
              "4            0      137             40  ...                     2.288   33        1\n",
              "\n",
              "[5 rows x 9 columns]"
            ]
          },
          "metadata": {
            "tags": []
          },
          "execution_count": 11
        }
      ]
    },
    {
      "cell_type": "markdown",
      "metadata": {
        "id": "xcDbht4GjxhC"
      },
      "source": [
        "### Check for Null Values"
      ]
    },
    {
      "cell_type": "code",
      "metadata": {
        "colab": {
          "base_uri": "https://localhost:8080/"
        },
        "id": "B_V0PxUZjxhC",
        "outputId": "998b6cbb-149b-4ffd-b340-6937309703f3"
      },
      "source": [
        "data_frame.isnull().values.any()"
      ],
      "execution_count": 12,
      "outputs": [
        {
          "output_type": "execute_result",
          "data": {
            "text/plain": [
              "False"
            ]
          },
          "metadata": {
            "tags": []
          },
          "execution_count": 12
        }
      ]
    },
    {
      "cell_type": "markdown",
      "metadata": {
        "id": "KH1Nen1ejxiC"
      },
      "source": [
        "### Check Class distribution \n",
        "\n",
        "Rare events are hard to predict"
      ]
    },
    {
      "cell_type": "code",
      "metadata": {
        "colab": {
          "base_uri": "https://localhost:8080/"
        },
        "id": "tXi6lGJzjxiD",
        "outputId": "b48a743b-6328-4090-ce18-a5aa8cdafd60"
      },
      "source": [
        "num_obs = len(data_frame)\n",
        "num_true = len(data_frame.loc[data_frame['Outcome'] == 1])\n",
        "num_false = len(data_frame.loc[data_frame['Outcome'] == 0])\n",
        "print(\"Number of True Cases:  {0} ({1:2.2f} %)\".format(num_true, ((1.0 * num_true) / (1.0 * num_obs)) * 100))\n",
        "print(\"Number of False Cases: {0} ({1:2.2f} %)\".format(num_false, (( 1.0 * num_false) / (1.0 * num_obs)) * 100))"
      ],
      "execution_count": 13,
      "outputs": [
        {
          "output_type": "stream",
          "text": [
            "Number of True Cases:  268 (34.90 %)\n",
            "Number of False Cases: 500 (65.10 %)\n"
          ],
          "name": "stdout"
        }
      ]
    },
    {
      "cell_type": "markdown",
      "metadata": {
        "id": "gP1KjOwhjxiF"
      },
      "source": [
        "Good distribution of true and false cases.  No special work needed."
      ]
    },
    {
      "cell_type": "markdown",
      "metadata": {
        "id": "lyNrw2BTjxiG"
      },
      "source": [
        "### Spliting the data \n",
        "\n",
        "70% for training, 30% for testing"
      ]
    },
    {
      "cell_type": "code",
      "metadata": {
        "collapsed": true,
        "id": "DnmIB2okjxiH"
      },
      "source": [
        "from sklearn.model_selection import train_test_split\n",
        "\n",
        "feature_col_names = ['Pregnancies', 'Glucose', 'BloodPressure', 'SkinThickness', 'Insulin', 'BMI', 'DiabetesPedigreeFunction', 'Age']\n",
        "predicted_class_names = ['Outcome']\n",
        "\n",
        "X = data_frame[feature_col_names].values     # predictor feature columns (8 X m)\n",
        "y = data_frame[predicted_class_names].values # predicted class (1 = true, 0 = false) column (1 X m)\n",
        "\n",
        "X_train, X_test, y_train, y_test = train_test_split(X, y, test_size = 0.3, random_state = 42) "
      ],
      "execution_count": 14,
      "outputs": []
    },
    {
      "cell_type": "markdown",
      "metadata": {
        "id": "St5oOKTxjxiU"
      },
      "source": [
        "We check to ensure we have the the desired 70% train, 30% test split of the data"
      ]
    },
    {
      "cell_type": "code",
      "metadata": {
        "colab": {
          "base_uri": "https://localhost:8080/"
        },
        "id": "aTMWBeaxjxi4",
        "outputId": "14eb35ac-8a6c-48d3-e578-25ed4ebacb16"
      },
      "source": [
        "trainval = (1.0 * len(X_train)) / (1.0 * len(data_frame.index))\n",
        "testval = (1.0 * len(X_test)) / (1.0 * len(data_frame.index))\n",
        "print(\"{0:0.2f} % in training set.\". format(trainval * 100))\n",
        "print(\"{0:0.2f} % in test set.\". format(testval * 100))"
      ],
      "execution_count": 15,
      "outputs": [
        {
          "output_type": "stream",
          "text": [
            "69.92 % in training set.\n",
            "30.08 % in test set.\n"
          ],
          "name": "stdout"
        }
      ]
    },
    {
      "cell_type": "markdown",
      "metadata": {
        "id": "gnQK_0f-jxi5"
      },
      "source": [
        "#### Verifying \"Outcome\" Variable was split finely."
      ]
    },
    {
      "cell_type": "code",
      "metadata": {
        "colab": {
          "base_uri": "https://localhost:8080/"
        },
        "collapsed": true,
        "id": "7GiGAHdwjxi5",
        "outputId": "cb92a84c-9188-4d4d-9f70-e9084d7a3767"
      },
      "source": [
        "print(\"Original True  : {0} ({1:0.2f} %)\".format(len(data_frame.loc[data_frame['Outcome'] == 1]), (len(data_frame.loc[data_frame['Outcome'] == 1]) / len(data_frame.index)) * 100.0))\n",
        "print(\"Original False : {0} ({1:0.2f} %)\".format(len(data_frame.loc[data_frame['Outcome'] == 0]), (len(data_frame.loc[data_frame['Outcome'] == 0]) / len(data_frame.index)) * 100.0))\n",
        "print(\"\")\n",
        "print(\"Training True  : {0} ({1:0.2f} %)\".format(len(y_train[y_train[:] == 1]), (len(y_train[y_train[:] == 1]) / len(y_train) * 100.0)))\n",
        "print(\"Training False : {0} ({1:0.2f} %)\".format(len(y_train[y_train[:] == 0]), (len(y_train[y_train[:] == 0]) / len(y_train) * 100.0)))\n",
        "print(\"\")\n",
        "print(\"Test True      : {0} ({1:0.2f} %)\".format(len(y_test[y_test[:] == 1]), (len(y_test[y_test[:] == 1]) / len(y_test) * 100.0)))\n",
        "print(\"Test False     : {0} ({1:0.2f} %)\".format(len(y_test[y_test[:] == 0]), (len(y_test[y_test[:] == 0]) / len(y_test) * 100.0)))\n"
      ],
      "execution_count": 16,
      "outputs": [
        {
          "output_type": "stream",
          "text": [
            "Original True  : 268 (34.90 %)\n",
            "Original False : 500 (65.10 %)\n",
            "\n",
            "Training True  : 188 (35.01 %)\n",
            "Training False : 349 (64.99 %)\n",
            "\n",
            "Test True      : 80 (34.63 %)\n",
            "Test False     : 151 (65.37 %)\n"
          ],
          "name": "stdout"
        }
      ]
    },
    {
      "cell_type": "markdown",
      "metadata": {
        "id": "tbiWoxLhjxi7"
      },
      "source": [
        "### Post-split Data Preparation"
      ]
    },
    {
      "cell_type": "code",
      "metadata": {
        "colab": {
          "base_uri": "https://localhost:8080/",
          "height": 0
        },
        "id": "g6K-3SMPjxjD",
        "outputId": "c103eb40-86a5-4089-fd72-d41979ca0c5e"
      },
      "source": [
        "data_frame.head()"
      ],
      "execution_count": 17,
      "outputs": [
        {
          "output_type": "execute_result",
          "data": {
            "text/html": [
              "<div>\n",
              "<style scoped>\n",
              "    .dataframe tbody tr th:only-of-type {\n",
              "        vertical-align: middle;\n",
              "    }\n",
              "\n",
              "    .dataframe tbody tr th {\n",
              "        vertical-align: top;\n",
              "    }\n",
              "\n",
              "    .dataframe thead th {\n",
              "        text-align: right;\n",
              "    }\n",
              "</style>\n",
              "<table border=\"1\" class=\"dataframe\">\n",
              "  <thead>\n",
              "    <tr style=\"text-align: right;\">\n",
              "      <th></th>\n",
              "      <th>Pregnancies</th>\n",
              "      <th>Glucose</th>\n",
              "      <th>BloodPressure</th>\n",
              "      <th>SkinThickness</th>\n",
              "      <th>Insulin</th>\n",
              "      <th>BMI</th>\n",
              "      <th>DiabetesPedigreeFunction</th>\n",
              "      <th>Age</th>\n",
              "      <th>Outcome</th>\n",
              "    </tr>\n",
              "  </thead>\n",
              "  <tbody>\n",
              "    <tr>\n",
              "      <th>0</th>\n",
              "      <td>6</td>\n",
              "      <td>148</td>\n",
              "      <td>72</td>\n",
              "      <td>35</td>\n",
              "      <td>0</td>\n",
              "      <td>33.6</td>\n",
              "      <td>0.627</td>\n",
              "      <td>50</td>\n",
              "      <td>1</td>\n",
              "    </tr>\n",
              "    <tr>\n",
              "      <th>1</th>\n",
              "      <td>1</td>\n",
              "      <td>85</td>\n",
              "      <td>66</td>\n",
              "      <td>29</td>\n",
              "      <td>0</td>\n",
              "      <td>26.6</td>\n",
              "      <td>0.351</td>\n",
              "      <td>31</td>\n",
              "      <td>0</td>\n",
              "    </tr>\n",
              "    <tr>\n",
              "      <th>2</th>\n",
              "      <td>8</td>\n",
              "      <td>183</td>\n",
              "      <td>64</td>\n",
              "      <td>0</td>\n",
              "      <td>0</td>\n",
              "      <td>23.3</td>\n",
              "      <td>0.672</td>\n",
              "      <td>32</td>\n",
              "      <td>1</td>\n",
              "    </tr>\n",
              "    <tr>\n",
              "      <th>3</th>\n",
              "      <td>1</td>\n",
              "      <td>89</td>\n",
              "      <td>66</td>\n",
              "      <td>23</td>\n",
              "      <td>94</td>\n",
              "      <td>28.1</td>\n",
              "      <td>0.167</td>\n",
              "      <td>21</td>\n",
              "      <td>0</td>\n",
              "    </tr>\n",
              "    <tr>\n",
              "      <th>4</th>\n",
              "      <td>0</td>\n",
              "      <td>137</td>\n",
              "      <td>40</td>\n",
              "      <td>35</td>\n",
              "      <td>168</td>\n",
              "      <td>43.1</td>\n",
              "      <td>2.288</td>\n",
              "      <td>33</td>\n",
              "      <td>1</td>\n",
              "    </tr>\n",
              "  </tbody>\n",
              "</table>\n",
              "</div>"
            ],
            "text/plain": [
              "   Pregnancies  Glucose  BloodPressure  ...  DiabetesPedigreeFunction  Age  Outcome\n",
              "0            6      148             72  ...                     0.627   50        1\n",
              "1            1       85             66  ...                     0.351   31        0\n",
              "2            8      183             64  ...                     0.672   32        1\n",
              "3            1       89             66  ...                     0.167   21        0\n",
              "4            0      137             40  ...                     2.288   33        1\n",
              "\n",
              "[5 rows x 9 columns]"
            ]
          },
          "metadata": {
            "tags": []
          },
          "execution_count": 17
        }
      ]
    },
    {
      "cell_type": "markdown",
      "metadata": {
        "id": "IgyBHSiEjxjY"
      },
      "source": [
        "### Hidden Missing Values\n",
        "\n",
        "Are these 0 values possible? NO!\n",
        "\n",
        "How many rows have have unexpected 0 values?"
      ]
    },
    {
      "cell_type": "code",
      "metadata": {
        "colab": {
          "base_uri": "https://localhost:8080/"
        },
        "id": "fbB0PdhmjxjZ",
        "outputId": "69fec51d-ddac-4306-f198-3228b0e70092"
      },
      "source": [
        "print(\"--> Rows in Data: {0}\".format(len(data_frame)))\n",
        "print(\"--> Rows Missing (Glucose): {0}\".format(len(data_frame.loc[data_frame['Glucose'] == 0])))\n",
        "print(\"--> Rows Missing (BloodPressure): {0}\".format(len(data_frame.loc[data_frame['BloodPressure'] == 0])))\n",
        "print(\"--> Rows Missing (SkinThickness): {0}\".format(len(data_frame.loc[data_frame['SkinThickness'] == 0])))\n",
        "print(\"--> Rows Missing (Insulin): {0}\".format(len(data_frame.loc[data_frame['Insulin'] == 0])))\n",
        "print(\"--> Rows Missing (BMI): {0}\".format(len(data_frame.loc[data_frame['BMI'] == 0])))\n",
        "print(\"--> Rows Missing (DiabetesPedigreeFunction): {0}\".format(len(data_frame.loc[data_frame['DiabetesPedigreeFunction'] == 0])))\n",
        "print(\"--> Rows Missing (Age): {0}\".format(len(data_frame.loc[data_frame['Age'] == 0])))"
      ],
      "execution_count": 18,
      "outputs": [
        {
          "output_type": "stream",
          "text": [
            "--> Rows in Data: 768\n",
            "--> Rows Missing (Glucose): 5\n",
            "--> Rows Missing (BloodPressure): 35\n",
            "--> Rows Missing (SkinThickness): 227\n",
            "--> Rows Missing (Insulin): 374\n",
            "--> Rows Missing (BMI): 11\n",
            "--> Rows Missing (DiabetesPedigreeFunction): 0\n",
            "--> Rows Missing (Age): 0\n"
          ],
          "name": "stdout"
        }
      ]
    },
    {
      "cell_type": "markdown",
      "metadata": {
        "id": "UR0PvJlRjxja"
      },
      "source": [
        "### Impute 0 values, with the mean"
      ]
    },
    {
      "cell_type": "code",
      "metadata": {
        "collapsed": true,
        "id": "8wRnsYuIjxjb"
      },
      "source": [
        "from sklearn.impute import SimpleImputer\n",
        "\n",
        "# Impute with mean, all the 0 readings\n",
        "fill_0 = SimpleImputer(missing_values = 0, strategy = \"mean\")\n",
        "\n",
        "X_train = fill_0.fit_transform(X_train)\n",
        "X_test = fill_0.fit_transform(X_test)"
      ],
      "execution_count": 19,
      "outputs": []
    },
    {
      "cell_type": "markdown",
      "metadata": {
        "id": "f-401OHPjxjc"
      },
      "source": [
        "## \"Naive Bayes\" Algorithm"
      ]
    },
    {
      "cell_type": "code",
      "metadata": {
        "colab": {
          "base_uri": "https://localhost:8080/"
        },
        "id": "ZCH2_KLSjxjc",
        "outputId": "d8efd113-1c4f-405f-80ee-1a5d5bb4161b"
      },
      "source": [
        "from sklearn.naive_bayes import GaussianNB\n",
        "from sklearn import metrics\n",
        "\n",
        "# create Gaussian Naive Bayes model object and train it with the data\n",
        "nb_model = GaussianNB(priors = [0.865, 0.135], var_smoothing = 1e-10)\n",
        "\n",
        "nb_model.fit(X_train, y_train.ravel())\n",
        "\n",
        "nb_predict_train = nb_model.predict(X_train)\n",
        "nb_accuracy = metrics.accuracy_score(y_train, nb_predict_train)\n",
        "print (\"- Accuracy of 'Gaussian NB', for Diabetes Prediction (On Training Data) is : {0:.5f}\".format(nb_accuracy))\n",
        "nb_predict_test = nb_model.predict(X_test)\n",
        "nb_accuracy_testdata = metrics.accuracy_score(y_test, nb_predict_test)\n",
        "print (\"- Accuracy of 'Gaussian NB', for Diabetes Prediction (On Testing Data) is : {0:.5f}\".format(nb_accuracy_testdata))\n",
        "\n",
        "print (\"\\n\\n\")\n",
        "print (\"Confusion Matrix: \\n\")\n",
        "print (metrics.confusion_matrix(y_test, nb_predict_test, labels = [1, 0])) \n",
        "print (\"\\n\\n\")\n",
        "print (\"Classification Report: \\n\")\n",
        "print (metrics.classification_report(y_test, nb_predict_test, labels = [1, 0]))"
      ],
      "execution_count": 20,
      "outputs": [
        {
          "output_type": "stream",
          "text": [
            "- Accuracy of 'Gaussian NB', for Diabetes Prediction (On Training Data) is : 0.76164\n",
            "- Accuracy of 'Gaussian NB', for Diabetes Prediction (On Testing Data) is : 0.75758\n",
            "\n",
            "\n",
            "\n",
            "Confusion Matrix: \n",
            "\n",
            "[[ 41  39]\n",
            " [ 17 134]]\n",
            "\n",
            "\n",
            "\n",
            "Classification Report: \n",
            "\n",
            "              precision    recall  f1-score   support\n",
            "\n",
            "           1       0.71      0.51      0.59        80\n",
            "           0       0.77      0.89      0.83       151\n",
            "\n",
            "    accuracy                           0.76       231\n",
            "   macro avg       0.74      0.70      0.71       231\n",
            "weighted avg       0.75      0.76      0.75       231\n",
            "\n"
          ],
          "name": "stdout"
        }
      ]
    },
    {
      "cell_type": "markdown",
      "metadata": {
        "id": "DXnoRNCfjxjk"
      },
      "source": [
        "## \"Random Forest Classifier\" Algorithm"
      ]
    },
    {
      "cell_type": "code",
      "metadata": {
        "colab": {
          "base_uri": "https://localhost:8080/"
        },
        "collapsed": true,
        "id": "5CRouBCijxjk",
        "outputId": "bdb34dba-f649-444e-d9e7-7a8ccbc00eb4"
      },
      "source": [
        "from sklearn.ensemble import RandomForestClassifier\n",
        "from sklearn.model_selection import RepeatedStratifiedKFold\n",
        "from sklearn.model_selection import RandomizedSearchCV\n",
        "\n",
        "n_estimators = [10, 100, 1000]\n",
        "max_features = ['sqrt', 'log2']\n",
        "max_depth = [10, 20]\n",
        "max_depth.append(None)\n",
        "min_samples_split = [2, 5, 10]\n",
        "min_samples_leaf = [1, 2, 4]\n",
        "bootstrap = [True, False]\n",
        "# Create the random grid\n",
        "rf_random_grid = {'n_estimators': n_estimators,\n",
        "               'max_features': max_features,\n",
        "               'max_depth': max_depth,\n",
        "               'min_samples_split': min_samples_split,\n",
        "               'min_samples_leaf': min_samples_leaf,\n",
        "               'bootstrap': bootstrap}\n",
        "\n",
        "rf_model = RandomForestClassifier()\n",
        "rf_cv = RepeatedStratifiedKFold(n_splits = 7, n_repeats = 3, random_state = 1)\n",
        "rf_grid_search = RandomizedSearchCV(estimator = rf_model, param_distributions = rf_random_grid, n_iter = 10, verbose = 2, random_state = 42, n_jobs = -1, cv = rf_cv, scoring = 'accuracy', error_score = 0)\n",
        "rf_grid_result = rf_grid_search.fit(X_train, y_train.ravel())\n",
        "print(\"Best: %f using %s\" % (rf_grid_result.best_score_, rf_grid_result.best_params_))\n",
        "\n",
        "rf_predict_train = rf_grid_result.predict(X_train)\n",
        "rf_accuracy = metrics.accuracy_score(y_train, rf_predict_train)\n",
        "print (\"- Accuracy of 'Random Forest Classifier', for Diabetes Prediction (On Training Data) is : {0:.5f}\".format(rf_accuracy))\n",
        "rf_predict_test = rf_grid_result.predict(X_test)\n",
        "rf_accuracy_testdata = metrics.accuracy_score(y_test, rf_predict_test)\n",
        "print (\"- Accuracy of 'Random Forest Classifier', for Diabetes Prediction (On Testing Data) is : {0:.5f}\".format(rf_accuracy_testdata))\n",
        "\n",
        "print (\"\\n\\n\")\n",
        "print (\"Confusion Matrix: \\n\")\n",
        "print (metrics.confusion_matrix(y_test, rf_predict_test, labels = [1, 0])) \n",
        "print (\"\\n\\n\")\n",
        "print (\"Classification Report: \\n\")\n",
        "print (metrics.classification_report(y_test, rf_predict_test, labels = [1, 0]))"
      ],
      "execution_count": 42,
      "outputs": [
        {
          "output_type": "stream",
          "text": [
            "Fitting 21 folds for each of 10 candidates, totalling 210 fits\n"
          ],
          "name": "stdout"
        },
        {
          "output_type": "stream",
          "text": [
            "[Parallel(n_jobs=-1)]: Using backend LokyBackend with 2 concurrent workers.\n",
            "[Parallel(n_jobs=-1)]: Done  88 tasks      | elapsed:   31.5s\n",
            "[Parallel(n_jobs=-1)]: Done 210 out of 210 | elapsed:  1.1min finished\n"
          ],
          "name": "stderr"
        },
        {
          "output_type": "stream",
          "text": [
            "Best: 0.763557 using {'n_estimators': 1000, 'min_samples_split': 2, 'min_samples_leaf': 1, 'max_features': 'log2', 'max_depth': None, 'bootstrap': True}\n",
            "- Accuracy of 'Random Forest Classifier', for Diabetes Prediction (On Training Data) is : 1.00000\n",
            "- Accuracy of 'Random Forest Classifier', for Diabetes Prediction (On Testing Data) is : 0.75758\n",
            "\n",
            "\n",
            "\n",
            "Confusion Matrix: \n",
            "\n",
            "[[ 55  25]\n",
            " [ 31 120]]\n",
            "\n",
            "\n",
            "\n",
            "Classification Report: \n",
            "\n",
            "              precision    recall  f1-score   support\n",
            "\n",
            "           1       0.64      0.69      0.66        80\n",
            "           0       0.83      0.79      0.81       151\n",
            "\n",
            "    accuracy                           0.76       231\n",
            "   macro avg       0.73      0.74      0.74       231\n",
            "weighted avg       0.76      0.76      0.76       231\n",
            "\n"
          ],
          "name": "stdout"
        }
      ]
    },
    {
      "cell_type": "markdown",
      "metadata": {
        "collapsed": true,
        "id": "q6KFFdvjjxjw"
      },
      "source": [
        "## \"Logistic Regression\" Algorithm"
      ]
    },
    {
      "cell_type": "code",
      "metadata": {
        "colab": {
          "base_uri": "https://localhost:8080/"
        },
        "id": "vZUs_SZQjxjx",
        "outputId": "52326707-2585-4953-84aa-c939cd41d684"
      },
      "source": [
        "from sklearn.linear_model import LogisticRegression\n",
        "from sklearn.model_selection import RepeatedStratifiedKFold\n",
        "from sklearn.model_selection import RandomizedSearchCV\n",
        "\n",
        "lr_model = LogisticRegression()\n",
        "solvers = ['newton-cg', 'liblinear']\n",
        "penalty = ['l2']\n",
        "c_values = [100, 10, 1.0, 0.1, 0.01]\n",
        "lr_grid = dict(solver = solvers, penalty = penalty, C = c_values)\n",
        "lr_cv = RepeatedStratifiedKFold(n_splits = 10, n_repeats = 3, random_state = 1)\n",
        "lr_grid_search = RandomizedSearchCV(estimator = lr_model, param_distributions = lr_grid, n_iter = 10, verbose = 2, random_state = 42, n_jobs = -1, cv = lr_cv, scoring = 'accuracy', error_score = 0)\n",
        "lr_grid_result = lr_grid_search.fit(X_train, y_train.ravel())\n",
        "# summarize results\n",
        "print(\"Best: %f using %s\" % (lr_grid_result.best_score_, lr_grid_result.best_params_))\n",
        "\n",
        "lr_predict_train = lr_grid_result.predict(X_train)\n",
        "lr_accuracy = metrics.accuracy_score(y_train, lr_predict_train)\n",
        "print (\"- Accuracy of 'Logistic Regression Classifier', for Diabetes Prediction (On Training Data) is : {0:.5f}\".format(lr_accuracy))\n",
        "lr_predict_test = lr_grid_result.predict(X_test)\n",
        "lr_accuracy_testdata = metrics.accuracy_score(y_test, lr_predict_test)\n",
        "print (\"- Accuracy of 'Logistic Regression Classifier', for Diabetes Prediction (On Testing Data) is : {0:.5f}\".format(lr_accuracy_testdata))\n",
        "\n",
        "print (\"\\n\\n\")\n",
        "print (\"Confusion Matrix: \\n\")\n",
        "print (metrics.confusion_matrix(y_test, lr_predict_test, labels = [1, 0])) \n",
        "print (\"\\n\\n\")\n",
        "print (\"Classification Report: \\n\")\n",
        "print (metrics.classification_report(y_test, lr_predict_test, labels = [1, 0]))"
      ],
      "execution_count": 26,
      "outputs": [
        {
          "output_type": "stream",
          "text": [
            "Fitting 30 folds for each of 10 candidates, totalling 300 fits\n"
          ],
          "name": "stdout"
        },
        {
          "output_type": "stream",
          "text": [
            "[Parallel(n_jobs=-1)]: Using backend LokyBackend with 2 concurrent workers.\n",
            "[Parallel(n_jobs=-1)]: Done  80 tasks      | elapsed:    3.0s\n"
          ],
          "name": "stderr"
        },
        {
          "output_type": "stream",
          "text": [
            "Best: 0.775507 using {'solver': 'newton-cg', 'penalty': 'l2', 'C': 0.01}\n",
            "- Accuracy of 'Logistic Regression Classifier', for Diabetes Prediction (On Training Data) is : 0.79143\n",
            "- Accuracy of 'Logistic Regression Classifier', for Diabetes Prediction (On Testing Data) is : 0.73160\n",
            "\n",
            "\n",
            "\n",
            "Confusion Matrix: \n",
            "\n",
            "[[ 47  33]\n",
            " [ 29 122]]\n",
            "\n",
            "\n",
            "\n",
            "Classification Report: \n",
            "\n",
            "              precision    recall  f1-score   support\n",
            "\n",
            "           1       0.62      0.59      0.60        80\n",
            "           0       0.79      0.81      0.80       151\n",
            "\n",
            "    accuracy                           0.73       231\n",
            "   macro avg       0.70      0.70      0.70       231\n",
            "weighted avg       0.73      0.73      0.73       231\n",
            "\n"
          ],
          "name": "stdout"
        },
        {
          "output_type": "stream",
          "text": [
            "[Parallel(n_jobs=-1)]: Done 300 out of 300 | elapsed:    6.8s finished\n"
          ],
          "name": "stderr"
        }
      ]
    },
    {
      "cell_type": "markdown",
      "metadata": {
        "id": "K_YmlOh5jxjy"
      },
      "source": [
        "## \"Support Vector Machine\" Algorithm"
      ]
    },
    {
      "cell_type": "code",
      "metadata": {
        "colab": {
          "base_uri": "https://localhost:8080/"
        },
        "id": "P3nZZEQFjxjz",
        "outputId": "b8e819c7-2747-4e0b-efb3-f16a55ba30a4"
      },
      "source": [
        "from sklearn.svm import SVC\n",
        "\n",
        "svm_model = SVC()\n",
        "kernel = ['poly', 'tanh', 'sigmoid']\n",
        "C = [100, 50, 10, 1, 0.1, 0.01]\n",
        "gamma = ['scale']\n",
        "svm_grid = dict(kernel = kernel, C = C, gamma = gamma)\n",
        "svm_cv = RepeatedStratifiedKFold(n_splits = 10, n_repeats = 3, random_state = 1)\n",
        "svm_grid_search = RandomizedSearchCV(estimator = svm_model, param_distributions = svm_grid, n_iter = 18, verbose = 2, random_state = 42, n_jobs = -1, cv = svm_cv, scoring = 'accuracy', error_score = 0)\n",
        "svm_grid_result = svm_grid_search.fit(X_train, y_train.ravel())\n",
        "# summarize results\n",
        "print(\"Best: %f using %s\" % (svm_grid_result.best_score_, svm_grid_result.best_params_))\n",
        "\n",
        "svm_predict_train = svm_grid_result.predict(X_train)\n",
        "svm_accuracy = metrics.accuracy_score(y_train, svm_predict_train)\n",
        "print (\"- Accuracy of 'Support Vector Machine', for Diabetes Prediction (On Training Data) is : {0:.5f}\".format(svm_accuracy))\n",
        "svm_predict_test = svm_grid_result.predict(X_test)\n",
        "svm_accuracy_testdata = metrics.accuracy_score(y_test, svm_predict_test)\n",
        "print (\"- Accuracy of 'Support Vector Machine', for Diabetes Prediction (On Testing Data) is : {0:.5f}\".format(svm_accuracy_testdata))\n",
        "\n",
        "print (\"\\n\\n\")\n",
        "print (\"Confusion Matrix: \\n\")\n",
        "print (metrics.confusion_matrix(y_test, svm_predict_test, labels = [1, 0])) \n",
        "print (\"\\n\\n\")\n",
        "print (\"Classification Report: \\n\")\n",
        "print (metrics.classification_report(y_test, svm_predict_test, labels = [1, 0]))"
      ],
      "execution_count": 32,
      "outputs": [
        {
          "output_type": "stream",
          "text": [
            "Fitting 30 folds for each of 18 candidates, totalling 540 fits\n"
          ],
          "name": "stdout"
        },
        {
          "output_type": "stream",
          "text": [
            "[Parallel(n_jobs=-1)]: Using backend LokyBackend with 2 concurrent workers.\n",
            "[Parallel(n_jobs=-1)]: Done  37 tasks      | elapsed:    7.7s\n"
          ],
          "name": "stderr"
        },
        {
          "output_type": "stream",
          "text": [
            "Best: 0.774889 using {'kernel': 'poly', 'gamma': 'scale', 'C': 50}\n",
            "- Accuracy of 'Support Vector Machine', for Diabetes Prediction (On Training Data) is : 0.79888\n",
            "- Accuracy of 'Support Vector Machine', for Diabetes Prediction (On Testing Data) is : 0.74892\n",
            "\n",
            "\n",
            "\n",
            "Confusion Matrix: \n",
            "\n",
            "[[ 46  34]\n",
            " [ 24 127]]\n",
            "\n",
            "\n",
            "\n",
            "Classification Report: \n",
            "\n",
            "              precision    recall  f1-score   support\n",
            "\n",
            "           1       0.66      0.57      0.61        80\n",
            "           0       0.79      0.84      0.81       151\n",
            "\n",
            "    accuracy                           0.75       231\n",
            "   macro avg       0.72      0.71      0.71       231\n",
            "weighted avg       0.74      0.75      0.74       231\n",
            "\n"
          ],
          "name": "stdout"
        },
        {
          "output_type": "stream",
          "text": [
            "[Parallel(n_jobs=-1)]: Done 540 out of 540 | elapsed:   15.2s finished\n"
          ],
          "name": "stderr"
        }
      ]
    },
    {
      "cell_type": "markdown",
      "metadata": {
        "id": "S85jMb55jxj3"
      },
      "source": [
        "## \"ANN\""
      ]
    },
    {
      "cell_type": "code",
      "metadata": {
        "colab": {
          "base_uri": "https://localhost:8080/"
        },
        "id": "rTqKOYWSjxj3",
        "outputId": "5fd6fd7f-c0be-4565-e6c9-7c5a56db4110"
      },
      "source": [
        "from sklearn.neural_network import MLPClassifier\n",
        "\n",
        "ann_model = MLPClassifier()\n",
        "hidden_layer_sizes = [(13, 13, 13, 13, 13)]\n",
        "max_iters = [500]\n",
        "alpha = [0.00001]\n",
        "learning_rate = ['constant', 'adaptive']\n",
        "ann_grid = dict(alpha = alpha, learning_rate = learning_rate, max_iter = max_iters, hidden_layer_sizes = hidden_layer_sizes)\n",
        "ann_cv = RepeatedStratifiedKFold(n_splits = 10, n_repeats = 3, random_state = 1)\n",
        "ann_grid_search = RandomizedSearchCV(estimator = ann_model, param_distributions = ann_grid, n_iter = 2, verbose = 2, random_state = 42, n_jobs = -1, cv = ann_cv, scoring = 'accuracy', error_score = 0)\n",
        "ann_grid_result = ann_grid_search.fit(X_train, y_train.ravel())\n",
        "# summarize results\n",
        "print(\"Best: %f using %s\" % (ann_grid_result.best_score_, ann_grid_result.best_params_))\n",
        "\n",
        "ann_predict_train = ann_grid_result.predict(X_train)\n",
        "ann_accuracy = metrics.accuracy_score(y_train, ann_predict_train)\n",
        "print (\"- Accuracy of 'ANN', for Diabetes Prediction (On Training Data) is : {0:.5f}\".format(ann_accuracy))\n",
        "ann_predict_test = ann_grid_result.predict(X_test)\n",
        "ann_accuracy_testdata = metrics.accuracy_score(y_test, ann_predict_test)\n",
        "print (\"- Accuracy of 'ANN', for Diabetes Prediction (On Testing Data) is : {0:.5f}\".format(ann_accuracy_testdata))\n",
        "\n",
        "print (\"\\n\\n\")\n",
        "print (\"Confusion Matrix: \\n\")\n",
        "print (metrics.confusion_matrix(y_test, ann_predict_test, labels = [1, 0])) \n",
        "print (\"\\n\\n\")\n",
        "print (\"Classification Report: \\n\")\n",
        "print (metrics.classification_report(y_test, ann_predict_test, labels = [1, 0]))"
      ],
      "execution_count": 39,
      "outputs": [
        {
          "output_type": "stream",
          "text": [
            "Fitting 30 folds for each of 2 candidates, totalling 60 fits\n"
          ],
          "name": "stdout"
        },
        {
          "output_type": "stream",
          "text": [
            "[Parallel(n_jobs=-1)]: Using backend LokyBackend with 2 concurrent workers.\n",
            "[Parallel(n_jobs=-1)]: Done  37 tasks      | elapsed:   31.4s\n",
            "[Parallel(n_jobs=-1)]: Done  60 out of  60 | elapsed:   48.9s finished\n"
          ],
          "name": "stderr"
        },
        {
          "output_type": "stream",
          "text": [
            "Best: 0.733217 using {'max_iter': 500, 'learning_rate': 'constant', 'hidden_layer_sizes': (13, 13, 13, 13, 13), 'alpha': 1e-05}\n",
            "- Accuracy of 'ANN', for Diabetes Prediction (On Training Data) is : 0.73743\n",
            "- Accuracy of 'ANN', for Diabetes Prediction (On Testing Data) is : 0.72727\n",
            "\n",
            "\n",
            "\n",
            "Confusion Matrix: \n",
            "\n",
            "[[ 43  37]\n",
            " [ 26 125]]\n",
            "\n",
            "\n",
            "\n",
            "Classification Report: \n",
            "\n",
            "              precision    recall  f1-score   support\n",
            "\n",
            "           1       0.62      0.54      0.58        80\n",
            "           0       0.77      0.83      0.80       151\n",
            "\n",
            "    accuracy                           0.73       231\n",
            "   macro avg       0.70      0.68      0.69       231\n",
            "weighted avg       0.72      0.73      0.72       231\n",
            "\n"
          ],
          "name": "stdout"
        }
      ]
    },
    {
      "cell_type": "markdown",
      "metadata": {
        "id": "zG7sZ44_jxlh"
      },
      "source": [
        "## \"Decision Tree Classifier\" Algorithm"
      ]
    },
    {
      "cell_type": "code",
      "metadata": {
        "colab": {
          "base_uri": "https://localhost:8080/"
        },
        "id": "7cmfh1vnjxlr",
        "outputId": "4eb09ec1-af4e-46c4-82d7-f8d76b926459"
      },
      "source": [
        "from sklearn.tree import DecisionTreeClassifier\n",
        "\n",
        "max_features = ['auto', 'sqrt', 'log2', None]\n",
        "max_depth = [10, 20, 40, 60]\n",
        "max_depth.append(None)\n",
        "min_samples_split = [1, 2, 5, 7, 10, None]\n",
        "min_samples_leaf = [1, 2, 4, 6, None]\n",
        "# Create the random grid\n",
        "dt_random_grid = {'max_features': max_features,\n",
        "               'max_depth': max_depth,\n",
        "               'min_samples_split': min_samples_split,\n",
        "               'min_samples_leaf': min_samples_leaf}\n",
        "\n",
        "dt_model = DecisionTreeClassifier()\n",
        "dt_cv = RepeatedStratifiedKFold(n_splits = 25, n_repeats = 10, random_state = 1)\n",
        "dt_grid_search = RandomizedSearchCV(estimator = dt_model, param_distributions = dt_random_grid, verbose = 2, random_state = 42, n_jobs = -1, cv = dt_cv, scoring = 'accuracy', error_score = 0)\n",
        "dt_grid_result = dt_grid_search.fit(X_train, y_train.ravel())\n",
        "print(\"Best: %f using %s\" % (dt_grid_result.best_score_, dt_grid_result.best_params_))\n",
        "\n",
        "dt_predict_train = dt_grid_result.predict(X_train)\n",
        "dt_accuracy = metrics.accuracy_score(y_train, dt_predict_train)\n",
        "print (\"- Accuracy of 'Decision Tree Classifier', for Diabetes Prediction (On Training Data) is : {0:.5f}\".format(dt_accuracy))\n",
        "dt_predict_test = dt_grid_result.predict(X_test)\n",
        "dt_accuracy_testdata = metrics.accuracy_score(y_test, dt_predict_test)\n",
        "print (\"- Accuracy of 'Decision Tree Classifier', for Diabetes Prediction (On Testing Data) is : {0:.5f}\".format(dt_accuracy_testdata))\n",
        "\n",
        "print (\"\\n\\n\")\n",
        "print (\"Confusion Matrix: \\n\")\n",
        "print (metrics.confusion_matrix(y_test, dt_predict_test, labels = [1, 0])) \n",
        "print (\"\\n\\n\")\n",
        "print (\"Classification Report: \\n\")\n",
        "print (metrics.classification_report(y_test, dt_predict_test, labels = [1, 0]))"
      ],
      "execution_count": 36,
      "outputs": [
        {
          "output_type": "stream",
          "text": [
            "Fitting 250 folds for each of 10 candidates, totalling 2500 fits\n"
          ],
          "name": "stdout"
        },
        {
          "output_type": "stream",
          "text": [
            "[Parallel(n_jobs=-1)]: Using backend LokyBackend with 2 concurrent workers.\n",
            "[Parallel(n_jobs=-1)]: Done 454 tasks      | elapsed:    1.9s\n"
          ],
          "name": "stderr"
        },
        {
          "output_type": "stream",
          "text": [
            "Best: 0.739359 using {'min_samples_split': 5, 'min_samples_leaf': 6, 'max_features': None, 'max_depth': 10}\n",
            "- Accuracy of 'Decision Tree Classifier', for Diabetes Prediction (On Training Data) is : 0.88082\n",
            "- Accuracy of 'Decision Tree Classifier', for Diabetes Prediction (On Testing Data) is : 0.74026\n",
            "\n",
            "\n",
            "\n",
            "Confusion Matrix: \n",
            "\n",
            "[[ 53  27]\n",
            " [ 33 118]]\n",
            "\n",
            "\n",
            "\n",
            "Classification Report: \n",
            "\n",
            "              precision    recall  f1-score   support\n",
            "\n",
            "           1       0.62      0.66      0.64        80\n",
            "           0       0.81      0.78      0.80       151\n",
            "\n",
            "    accuracy                           0.74       231\n",
            "   macro avg       0.72      0.72      0.72       231\n",
            "weighted avg       0.75      0.74      0.74       231\n",
            "\n"
          ],
          "name": "stdout"
        },
        {
          "output_type": "stream",
          "text": [
            "[Parallel(n_jobs=-1)]: Done 2500 out of 2500 | elapsed:    5.6s finished\n"
          ],
          "name": "stderr"
        }
      ]
    },
    {
      "cell_type": "markdown",
      "metadata": {
        "id": "1n82yRXDjxnQ"
      },
      "source": [
        "## Comparison of all the 6 ML Algorithms"
      ]
    },
    {
      "cell_type": "code",
      "metadata": {
        "id": "_OCvD0KSjxnQ",
        "colab": {
          "base_uri": "https://localhost:8080/",
          "height": 753
        },
        "outputId": "f80851a4-690b-44e0-b69d-b85359754f9e"
      },
      "source": [
        "from sklearn.metrics import roc_curve, auc\n",
        "y_prob = nb_model.predict_proba(X_test)[:,1] # This will give you positive class prediction probabilities  \n",
        "y_pred = np.where(y_prob > 0.5, 1, 0) # This will threshold the probabilities to give class predictions.\n",
        "nb_model.score(X_test, y_pred)\n",
        "false_positive_rate, true_positive_rate, thresholds = roc_curve(y_test, y_prob)\n",
        "roc_auc = auc(false_positive_rate, true_positive_rate)\n",
        "plt.figure(figsize=(12, 12))\n",
        "plt.title('Receiver Operating Characteristic')\n",
        "plt.plot(false_positive_rate,true_positive_rate, color='red',label = 'NB : AUC = %0.2f' % roc_auc)\n",
        "\n",
        "y_prob = lr_grid_search.predict_proba(X_test)[:,1] # This will give you positive class prediction probabilities  \n",
        "y_pred = np.where(y_prob > 0.5, 1, 0) # This will threshold the probabilities to give class predictions.\n",
        "lr_grid_search.score(X_test, y_pred)\n",
        "false_positive_rate, true_positive_rate, thresholds = roc_curve(y_test, y_prob)\n",
        "roc_auc = auc(false_positive_rate, true_positive_rate)\n",
        "plt.plot(false_positive_rate,true_positive_rate, color='green',label = 'LR : AUC = %0.2f' % roc_auc)\n",
        "\n",
        "y_prob = dt_grid_search.predict_proba(X_test)[:,1] # This will give you positive class prediction probabilities  \n",
        "y_pred = np.where(y_prob > 0.5, 1, 0) # This will threshold the probabilities to give class predictions.\n",
        "dt_grid_search.score(X_test, y_pred)\n",
        "false_positive_rate, true_positive_rate, thresholds = roc_curve(y_test, y_prob)\n",
        "roc_auc = auc(false_positive_rate, true_positive_rate)\n",
        "plt.plot(false_positive_rate,true_positive_rate, color='blue' ,label = 'DTC : AUC = %0.2f' % roc_auc)\n",
        "\n",
        "y_prob = ann_grid_search.predict_proba(X_test)[:,1] # This will give you positive class prediction probabilities  \n",
        "y_pred = np.where(y_prob > 0.5, 1, 0) # This will threshold the probabilities to give class predictions.\n",
        "ann_grid_search.score(X_test, y_pred)\n",
        "false_positive_rate, true_positive_rate, thresholds = roc_curve(y_test, y_prob)\n",
        "roc_auc = auc(false_positive_rate, true_positive_rate)\n",
        "plt.plot(false_positive_rate,true_positive_rate, color='orange' ,label = 'ANN : AUC = %0.2f' % roc_auc)\n",
        "\n",
        "y_prob = rf_grid_search.predict_proba(X_test)[:,1] # This will give you positive class prediction probabilities  \n",
        "y_pred = np.where(y_prob > 0.5, 1, 0) # This will threshold the probabilities to give class predictions.\n",
        "rf_grid_search.score(X_test, y_pred)\n",
        "false_positive_rate, true_positive_rate, thresholds = roc_curve(y_test, y_prob)\n",
        "roc_auc = auc(false_positive_rate, true_positive_rate)\n",
        "plt.plot(false_positive_rate,true_positive_rate, color='maroon' ,label = 'RFC : AUC = %0.2f' % roc_auc)\n",
        "\n",
        "plt.legend(loc = 'lower right')\n",
        "plt.plot([0, 1], [0, 1],linestyle='--')\n",
        "plt.axis('tight')\n",
        "plt.ylabel('True Positive Rate')\n",
        "plt.xlabel('False Positive Rate')"
      ],
      "execution_count": 44,
      "outputs": [
        {
          "output_type": "execute_result",
          "data": {
            "text/plain": [
              "Text(0.5, 0, 'False Positive Rate')"
            ]
          },
          "metadata": {
            "tags": []
          },
          "execution_count": 44
        },
        {
          "output_type": "display_data",
          "data": {
            "image/png": "[encoded data removed]",
            "text/plain": [
              "<Figure size 864x864 with 1 Axes>"
            ]
          },
          "metadata": {
            "tags": [],
            "needs_background": "light"
          }
        }
      ]
    },
    {
      "cell_type": "code",
      "metadata": {
        "colab": {
          "base_uri": "https://localhost:8080/"
        },
        "id": "CwpMBwzLjxnR",
        "outputId": "0be9cd45-7ad0-407a-8abe-67eec5055685"
      },
      "source": [
        "from sklearn.linear_model import LogisticRegression\n",
        "from sklearn.ensemble import StackingClassifier\n",
        "level1 = RandomForestClassifier()\n",
        "level0 = list()\n",
        "level0.append(('nb', nb_model))\n",
        "level0.append(('rfc', rf_grid_search))\n",
        "level0.append(('dt', dt_grid_search))\n",
        "level0.append(('lr', lr_grid_search))\n",
        "level0.append(('svm', svm_grid_search))\n",
        "level0.append(('ann', ann_grid_search))\n",
        "print(level0)\n",
        "model = StackingClassifier(estimators = level0, final_estimator = level1, cv = 4)\n",
        "model.fit(X_train, y_train.ravel())"
      ],
      "execution_count": null,
      "outputs": [
        {
          "output_type": "stream",
          "text": [
            "[('nb', GaussianNB(priors=[0.865, 0.135], var_smoothing=1e-10)), ('dt', RandomizedSearchCV(cv=RepeatedStratifiedKFold(n_repeats=10, n_splits=25, random_state=1),\n",
            "                   error_score=0,\n",
            "                   estimator=DecisionTreeClassifier(ccp_alpha=0.0,\n",
            "                                                    class_weight=None,\n",
            "                                                    criterion='gini',\n",
            "                                                    max_depth=None,\n",
            "                                                    max_features=None,\n",
            "                                                    max_leaf_nodes=None,\n",
            "                                                    min_impurity_decrease=0.0,\n",
            "                                                    min_impurity_split=None,\n",
            "                                                    min_samples_leaf=1,\n",
            "                                                    min_samples_split=2,\n",
            "                                                    min_weight_fraction_leaf=...\n",
            "                                                    presort='deprecated',\n",
            "                                                    random_state=None,\n",
            "                                                    splitter='best'),\n",
            "                   iid='deprecated', n_iter=10, n_jobs=-1,\n",
            "                   param_distributions={'max_depth': [10, 20, 40, 60, None],\n",
            "                                        'max_features': ['auto', 'sqrt', 'log2',\n",
            "                                                         None],\n",
            "                                        'min_samples_leaf': [1, 2, 4, 6, None],\n",
            "                                        'min_samples_split': [1, 2, 5, 7, 10,\n",
            "                                                              None]},\n",
            "                   pre_dispatch='2*n_jobs', random_state=42, refit=True,\n",
            "                   return_train_score=False, scoring='accuracy', verbose=2)), ('lr', RandomizedSearchCV(cv=RepeatedStratifiedKFold(n_repeats=3, n_splits=10, random_state=1),\n",
            "                   error_score=0,\n",
            "                   estimator=LogisticRegression(C=1.0, class_weight=None,\n",
            "                                                dual=False, fit_intercept=True,\n",
            "                                                intercept_scaling=1,\n",
            "                                                l1_ratio=None, max_iter=100,\n",
            "                                                multi_class='auto', n_jobs=None,\n",
            "                                                penalty='l2', random_state=None,\n",
            "                                                solver='lbfgs', tol=0.0001,\n",
            "                                                verbose=0, warm_start=False),\n",
            "                   iid='deprecated', n_iter=10, n_jobs=-1,\n",
            "                   param_distributions={'C': [100, 10, 1.0, 0.1, 0.01],\n",
            "                                        'penalty': ['l2'],\n",
            "                                        'solver': ['newton-cg', 'liblinear']},\n",
            "                   pre_dispatch='2*n_jobs', random_state=42, refit=True,\n",
            "                   return_train_score=False, scoring='accuracy', verbose=2)), ('svm', RandomizedSearchCV(cv=RepeatedStratifiedKFold(n_repeats=3, n_splits=10, random_state=1),\n",
            "                   error_score=0,\n",
            "                   estimator=SVC(C=1.0, break_ties=False, cache_size=200,\n",
            "                                 class_weight=None, coef0=0.0,\n",
            "                                 decision_function_shape='ovr', degree=3,\n",
            "                                 gamma='scale', kernel='rbf', max_iter=-1,\n",
            "                                 probability=False, random_state=None,\n",
            "                                 shrinking=True, tol=0.001, verbose=False),\n",
            "                   iid='deprecated', n_iter=18, n_jobs=-1,\n",
            "                   param_distributions={'C': [100, 50, 10, 1, 0.1, 0.01],\n",
            "                                        'gamma': ['scale'],\n",
            "                                        'kernel': ['poly', 'tanh', 'sigmoid']},\n",
            "                   pre_dispatch='2*n_jobs', random_state=42, refit=True,\n",
            "                   return_train_score=False, scoring='accuracy', verbose=2)), ('ann', RandomizedSearchCV(cv=RepeatedStratifiedKFold(n_repeats=3, n_splits=10, random_state=1),\n",
            "                   error_score=0,\n",
            "                   estimator=MLPClassifier(activation='relu', alpha=0.0001,\n",
            "                                           batch_size='auto', beta_1=0.9,\n",
            "                                           beta_2=0.999, early_stopping=False,\n",
            "                                           epsilon=1e-08,\n",
            "                                           hidden_layer_sizes=(100,),\n",
            "                                           learning_rate='constant',\n",
            "                                           learning_rate_init=0.001,\n",
            "                                           max_fun=15000, max_iter=200,\n",
            "                                           momentum=0.9, n_...\n",
            "                                           solver='adam', tol=0.0001,\n",
            "                                           validation_fraction=0.1,\n",
            "                                           verbose=False, warm_start=False),\n",
            "                   iid='deprecated', n_iter=2, n_jobs=-1,\n",
            "                   param_distributions={'alpha': [1e-05],\n",
            "                                        'hidden_layer_sizes': [(13, 13, 13, 13,\n",
            "                                                                13)],\n",
            "                                        'learning_rate': ['constant',\n",
            "                                                          'adaptive'],\n",
            "                                        'max_iter': [500]},\n",
            "                   pre_dispatch='2*n_jobs', random_state=42, refit=True,\n",
            "                   return_train_score=False, scoring='accuracy', verbose=2))]\n",
            "Fitting 250 folds for each of 10 candidates, totalling 2500 fits\n"
          ],
          "name": "stdout"
        },
        {
          "output_type": "stream",
          "text": [
            "[Parallel(n_jobs=-1)]: Using backend LokyBackend with 2 concurrent workers.\n",
            "[Parallel(n_jobs=-1)]: Done 454 tasks      | elapsed:    1.8s\n",
            "[Parallel(n_jobs=-1)]: Done 2500 out of 2500 | elapsed:    5.4s finished\n",
            "[Parallel(n_jobs=-1)]: Using backend LokyBackend with 2 concurrent workers.\n"
          ],
          "name": "stderr"
        },
        {
          "output_type": "stream",
          "text": [
            "Fitting 30 folds for each of 10 candidates, totalling 300 fits\n"
          ],
          "name": "stdout"
        },
        {
          "output_type": "stream",
          "text": [
            "[Parallel(n_jobs=-1)]: Done 144 tasks      | elapsed:    3.5s\n",
            "[Parallel(n_jobs=-1)]: Done 300 out of 300 | elapsed:    5.9s finished\n",
            "[Parallel(n_jobs=-1)]: Using backend LokyBackend with 2 concurrent workers.\n"
          ],
          "name": "stderr"
        },
        {
          "output_type": "stream",
          "text": [
            "Fitting 30 folds for each of 18 candidates, totalling 540 fits\n"
          ],
          "name": "stdout"
        },
        {
          "output_type": "stream",
          "text": [
            "[Parallel(n_jobs=-1)]: Done  37 tasks      | elapsed:    7.7s\n",
            "[Parallel(n_jobs=-1)]: Done 540 out of 540 | elapsed:   15.0s finished\n",
            "[Parallel(n_jobs=-1)]: Using backend LokyBackend with 2 concurrent workers.\n"
          ],
          "name": "stderr"
        },
        {
          "output_type": "stream",
          "text": [
            "Fitting 30 folds for each of 2 candidates, totalling 60 fits\n"
          ],
          "name": "stdout"
        },
        {
          "output_type": "stream",
          "text": [
            "[Parallel(n_jobs=-1)]: Done  37 tasks      | elapsed:   34.4s\n",
            "[Parallel(n_jobs=-1)]: Done  60 out of  60 | elapsed:   52.8s finished\n"
          ],
          "name": "stderr"
        },
        {
          "output_type": "stream",
          "text": [
            "Fitting 250 folds for each of 10 candidates, totalling 2500 fits\n"
          ],
          "name": "stdout"
        },
        {
          "output_type": "stream",
          "text": [
            "[Parallel(n_jobs=-1)]: Using backend LokyBackend with 2 concurrent workers.\n",
            "[Parallel(n_jobs=-1)]: Done 1084 tasks      | elapsed:    1.9s\n",
            "[Parallel(n_jobs=-1)]: Done 2497 out of 2500 | elapsed:    4.2s remaining:    0.0s\n",
            "[Parallel(n_jobs=-1)]: Done 2500 out of 2500 | elapsed:    4.2s finished\n",
            "[Parallel(n_jobs=-1)]: Using backend LokyBackend with 2 concurrent workers.\n"
          ],
          "name": "stderr"
        },
        {
          "output_type": "stream",
          "text": [
            "Fitting 250 folds for each of 10 candidates, totalling 2500 fits\n"
          ],
          "name": "stdout"
        },
        {
          "output_type": "stream",
          "text": [
            "[Parallel(n_jobs=-1)]: Done 1660 tasks      | elapsed:    2.7s\n",
            "[Parallel(n_jobs=-1)]: Done 2500 out of 2500 | elapsed:    3.9s finished\n",
            "[Parallel(n_jobs=-1)]: Using backend LokyBackend with 2 concurrent workers.\n"
          ],
          "name": "stderr"
        },
        {
          "output_type": "stream",
          "text": [
            "Fitting 250 folds for each of 10 candidates, totalling 2500 fits\n"
          ],
          "name": "stdout"
        },
        {
          "output_type": "stream",
          "text": [
            "[Parallel(n_jobs=-1)]: Done 1660 tasks      | elapsed:    2.7s\n",
            "[Parallel(n_jobs=-1)]: Done 2500 out of 2500 | elapsed:    4.1s finished\n",
            "[Parallel(n_jobs=-1)]: Using backend LokyBackend with 2 concurrent workers.\n"
          ],
          "name": "stderr"
        },
        {
          "output_type": "stream",
          "text": [
            "Fitting 250 folds for each of 10 candidates, totalling 2500 fits\n"
          ],
          "name": "stdout"
        },
        {
          "output_type": "stream",
          "text": [
            "[Parallel(n_jobs=-1)]: Done 1660 tasks      | elapsed:    2.8s\n",
            "[Parallel(n_jobs=-1)]: Done 2500 out of 2500 | elapsed:    4.2s finished\n",
            "[Parallel(n_jobs=-1)]: Using backend LokyBackend with 2 concurrent workers.\n"
          ],
          "name": "stderr"
        },
        {
          "output_type": "stream",
          "text": [
            "Fitting 30 folds for each of 10 candidates, totalling 300 fits\n"
          ],
          "name": "stdout"
        },
        {
          "output_type": "stream",
          "text": [
            "[Parallel(n_jobs=-1)]: Done 144 tasks      | elapsed:    3.4s\n",
            "[Parallel(n_jobs=-1)]: Done 300 out of 300 | elapsed:    5.7s finished\n",
            "[Parallel(n_jobs=-1)]: Using backend LokyBackend with 2 concurrent workers.\n"
          ],
          "name": "stderr"
        },
        {
          "output_type": "stream",
          "text": [
            "Fitting 30 folds for each of 10 candidates, totalling 300 fits\n"
          ],
          "name": "stdout"
        },
        {
          "output_type": "stream",
          "text": [
            "[Parallel(n_jobs=-1)]: Done 144 tasks      | elapsed:    3.3s\n",
            "[Parallel(n_jobs=-1)]: Done 300 out of 300 | elapsed:    5.7s finished\n",
            "[Parallel(n_jobs=-1)]: Using backend LokyBackend with 2 concurrent workers.\n"
          ],
          "name": "stderr"
        },
        {
          "output_type": "stream",
          "text": [
            "Fitting 30 folds for each of 10 candidates, totalling 300 fits\n"
          ],
          "name": "stdout"
        },
        {
          "output_type": "stream",
          "text": [
            "[Parallel(n_jobs=-1)]: Done 188 tasks      | elapsed:    3.8s\n",
            "[Parallel(n_jobs=-1)]: Done 300 out of 300 | elapsed:    5.5s finished\n",
            "[Parallel(n_jobs=-1)]: Using backend LokyBackend with 2 concurrent workers.\n"
          ],
          "name": "stderr"
        },
        {
          "output_type": "stream",
          "text": [
            "Fitting 30 folds for each of 10 candidates, totalling 300 fits\n"
          ],
          "name": "stdout"
        },
        {
          "output_type": "stream",
          "text": [
            "[Parallel(n_jobs=-1)]: Done 132 tasks      | elapsed:    2.7s\n",
            "[Parallel(n_jobs=-1)]: Done 300 out of 300 | elapsed:    5.5s finished\n",
            "[Parallel(n_jobs=-1)]: Using backend LokyBackend with 2 concurrent workers.\n"
          ],
          "name": "stderr"
        },
        {
          "output_type": "stream",
          "text": [
            "Fitting 30 folds for each of 18 candidates, totalling 540 fits\n"
          ],
          "name": "stdout"
        },
        {
          "output_type": "stream",
          "text": [
            "[Parallel(n_jobs=-1)]: Done 172 tasks      | elapsed:    2.9s\n",
            "[Parallel(n_jobs=-1)]: Done 540 out of 540 | elapsed:    4.4s finished\n",
            "[Parallel(n_jobs=-1)]: Using backend LokyBackend with 2 concurrent workers.\n"
          ],
          "name": "stderr"
        },
        {
          "output_type": "stream",
          "text": [
            "Fitting 30 folds for each of 18 candidates, totalling 540 fits\n"
          ],
          "name": "stdout"
        },
        {
          "output_type": "stream",
          "text": [
            "[Parallel(n_jobs=-1)]: Done 116 tasks      | elapsed:    5.1s\n",
            "[Parallel(n_jobs=-1)]: Done 540 out of 540 | elapsed:    7.3s finished\n",
            "[Parallel(n_jobs=-1)]: Using backend LokyBackend with 2 concurrent workers.\n"
          ],
          "name": "stderr"
        },
        {
          "output_type": "stream",
          "text": [
            "Fitting 30 folds for each of 18 candidates, totalling 540 fits\n"
          ],
          "name": "stdout"
        },
        {
          "output_type": "stream",
          "text": [
            "[Parallel(n_jobs=-1)]: Done  84 tasks      | elapsed:    3.8s\n",
            "[Parallel(n_jobs=-1)]: Done 540 out of 540 | elapsed:    7.4s finished\n",
            "[Parallel(n_jobs=-1)]: Using backend LokyBackend with 2 concurrent workers.\n"
          ],
          "name": "stderr"
        },
        {
          "output_type": "stream",
          "text": [
            "Fitting 30 folds for each of 18 candidates, totalling 540 fits\n"
          ],
          "name": "stdout"
        },
        {
          "output_type": "stream",
          "text": [
            "[Parallel(n_jobs=-1)]: Done  37 tasks      | elapsed:    5.6s\n",
            "[Parallel(n_jobs=-1)]: Done 540 out of 540 | elapsed:   10.5s finished\n",
            "[Parallel(n_jobs=-1)]: Using backend LokyBackend with 2 concurrent workers.\n"
          ],
          "name": "stderr"
        },
        {
          "output_type": "stream",
          "text": [
            "Fitting 30 folds for each of 2 candidates, totalling 60 fits\n"
          ],
          "name": "stdout"
        },
        {
          "output_type": "stream",
          "text": [
            "[Parallel(n_jobs=-1)]: Done  37 tasks      | elapsed:   28.3s\n",
            "[Parallel(n_jobs=-1)]: Done  60 out of  60 | elapsed:   44.5s finished\n"
          ],
          "name": "stderr"
        },
        {
          "output_type": "stream",
          "text": [
            "Fitting 30 folds for each of 2 candidates, totalling 60 fits\n"
          ],
          "name": "stdout"
        },
        {
          "output_type": "stream",
          "text": [
            "[Parallel(n_jobs=-1)]: Using backend LokyBackend with 2 concurrent workers.\n",
            "[Parallel(n_jobs=-1)]: Done  37 tasks      | elapsed:   31.3s\n",
            "[Parallel(n_jobs=-1)]: Done  60 out of  60 | elapsed:   48.1s finished\n"
          ],
          "name": "stderr"
        },
        {
          "output_type": "stream",
          "text": [
            "Fitting 30 folds for each of 2 candidates, totalling 60 fits\n"
          ],
          "name": "stdout"
        },
        {
          "output_type": "stream",
          "text": [
            "[Parallel(n_jobs=-1)]: Using backend LokyBackend with 2 concurrent workers.\n",
            "[Parallel(n_jobs=-1)]: Done  37 tasks      | elapsed:   29.0s\n",
            "[Parallel(n_jobs=-1)]: Done  60 out of  60 | elapsed:   47.3s finished\n"
          ],
          "name": "stderr"
        },
        {
          "output_type": "stream",
          "text": [
            "Fitting 30 folds for each of 2 candidates, totalling 60 fits\n"
          ],
          "name": "stdout"
        },
        {
          "output_type": "stream",
          "text": [
            "[Parallel(n_jobs=-1)]: Using backend LokyBackend with 2 concurrent workers.\n",
            "[Parallel(n_jobs=-1)]: Done  37 tasks      | elapsed:   29.2s\n",
            "[Parallel(n_jobs=-1)]: Done  60 out of  60 | elapsed:   47.6s finished\n"
          ],
          "name": "stderr"
        },
        {
          "output_type": "execute_result",
          "data": {
            "text/plain": [
              "StackingClassifier(cv=4,\n",
              "                   estimators=[('nb',\n",
              "                                GaussianNB(priors=[0.865, 0.135],\n",
              "                                           var_smoothing=1e-10)),\n",
              "                               ('dt',\n",
              "                                RandomizedSearchCV(cv=RepeatedStratifiedKFold(n_repeats=10, n_splits=25, random_state=1),\n",
              "                                                   error_score=0,\n",
              "                                                   estimator=DecisionTreeClassifier(ccp_alpha=0.0,\n",
              "                                                                                    class_weight=None,\n",
              "                                                                                    criterion='gini',\n",
              "                                                                                    max_depth=None,\n",
              "                                                                                    max_features=None,\n",
              "                                                                                    max_leaf_nodes=None,\n",
              "                                                                                    min_impurity...\n",
              "                                                          criterion='gini',\n",
              "                                                          max_depth=None,\n",
              "                                                          max_features='auto',\n",
              "                                                          max_leaf_nodes=None,\n",
              "                                                          max_samples=None,\n",
              "                                                          min_impurity_decrease=0.0,\n",
              "                                                          min_impurity_split=None,\n",
              "                                                          min_samples_leaf=1,\n",
              "                                                          min_samples_split=2,\n",
              "                                                          min_weight_fraction_leaf=0.0,\n",
              "                                                          n_estimators=100,\n",
              "                                                          n_jobs=None,\n",
              "                                                          oob_score=False,\n",
              "                                                          random_state=None,\n",
              "                                                          verbose=0,\n",
              "                                                          warm_start=False),\n",
              "                   n_jobs=None, passthrough=False, stack_method='auto',\n",
              "                   verbose=0)"
            ]
          },
          "metadata": {
            "tags": []
          },
          "execution_count": 50
        }
      ]
    },
    {
      "cell_type": "code",
      "metadata": {
        "colab": {
          "base_uri": "https://localhost:8080/"
        },
        "id": "XGBa1OPhjxnR",
        "outputId": "bbfbb3ee-436e-4544-f4c7-eb9bbaff4875"
      },
      "source": [
        "model_train = model.predict(X_train)\n",
        "model_accuracy = metrics.accuracy_score(y_train, model_train)\n",
        "print (\"- Accuracy of 'Our Model', for Diabetes Prediction (On Training Data) is : {0:.5f}\".format(model_accuracy))\n",
        "model_predict_test = model.predict(X_test)\n",
        "model_accuracy_testdata = metrics.accuracy_score(y_test, model_predict_test)\n",
        "print (\"- Accuracy of 'Our Model', for Diabetes Prediction (On Testing Data) is : {0:.5f}\".format(model_accuracy_testdata))\n",
        "\n",
        "print (\"\\n\\n\")\n",
        "print (\"Confusion Matrix: \\n\")\n",
        "print (metrics.confusion_matrix(y_test, model_predict_test, labels = [1, 0])) \n",
        "print (\"\\n\\n\")\n",
        "print (\"Classification Report: \\n\")\n",
        "print (metrics.classification_report(y_test, model_predict_test, labels = [1, 0]))"
      ],
      "execution_count": null,
      "outputs": [
        {
          "output_type": "stream",
          "text": [
            "- Accuracy of 'Our Model', for Diabetes Prediction (On Training Data) is : 0.87896\n",
            "- Accuracy of 'Our Model', for Diabetes Prediction (On Testing Data) is : 0.74459\n",
            "\n",
            "\n",
            "\n",
            "Confusion Matrix: \n",
            "\n",
            "[[ 46  34]\n",
            " [ 25 126]]\n",
            "\n",
            "\n",
            "\n",
            "Classification Report: \n",
            "\n",
            "              precision    recall  f1-score   support\n",
            "\n",
            "           1       0.65      0.57      0.61        80\n",
            "           0       0.79      0.83      0.81       151\n",
            "\n",
            "    accuracy                           0.74       231\n",
            "   macro avg       0.72      0.70      0.71       231\n",
            "weighted avg       0.74      0.74      0.74       231\n",
            "\n"
          ],
          "name": "stdout"
        }
      ]
    }
  ]
}